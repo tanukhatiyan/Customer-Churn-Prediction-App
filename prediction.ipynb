{
 "cells": [
  {
   "cell_type": "code",
   "execution_count": 1,
   "id": "4e6381d0",
   "metadata": {},
   "outputs": [],
   "source": [
    "import tensorflow as tf\n",
    "from tensorflow.keras.models import load_model\n",
    "import pickle\n",
    "import numpy as np\n",
    "import pandas as pd"
   ]
  },
  {
   "cell_type": "code",
   "execution_count": 3,
   "id": "2916bc63",
   "metadata": {},
   "outputs": [
    {
     "name": "stderr",
     "output_type": "stream",
     "text": [
      "WARNING:absl:Compiled the loaded model, but the compiled metrics have yet to be built. `model.compile_metrics` will be empty until you train or evaluate the model.\n"
     ]
    }
   ],
   "source": [
    "## Load the trained model, scaler and oneho\n",
    "model= load_model('model.h5')\n",
    "with open('scaler.pkl', 'rb') as f:\n",
    "    scaler = pickle.load(f)\n",
    "with open('label_encoder_gender.pkl', 'rb') as f:\n",
    "    label_encoder_gender = pickle.load(f)\n",
    "with open('onehot_encoder_geo.pkl','rb') as f:\n",
    "    onehot_encoder_geo = pickle.load(f)"
   ]
  },
  {
   "cell_type": "code",
   "execution_count": 5,
   "id": "bd0d468a",
   "metadata": {},
   "outputs": [
    {
     "name": "stdout",
     "output_type": "stream",
     "text": [
      "\u001b[1m1/1\u001b[0m \u001b[32m━━━━━━━━━━━━━━━━━━━━\u001b[0m\u001b[37m\u001b[0m \u001b[1m0s\u001b[0m 35ms/step\n",
      "Prediction (probability): 0.018868601\n",
      "Predicted class: 0\n",
      "Customer is unlikely to churn.\n"
     ]
    }
   ],
   "source": [
    "# Sample input data (modify based on your model's feature requirements)\n",
    "sample = {\n",
    "    'CreditScore': 650,\n",
    "    'Geography': 'France',\n",
    "    'Gender': 'Male',\n",
    "    'Age': 40,\n",
    "    'Tenure': 3,\n",
    "    'Balance': 60000.0,\n",
    "    'NumOfProducts': 2,\n",
    "    'HasCrCard': 1,\n",
    "    'IsActiveMember': 1,\n",
    "    'EstimatedSalary': 50000.0\n",
    "}\n",
    "\n",
    "# Convert to DataFrame\n",
    "sample_df = pd.DataFrame([sample])\n",
    "\n",
    "# Encode 'Gender'\n",
    "sample_df['Gender'] = label_encoder_gender.transform(sample_df['Gender'])\n",
    "\n",
    "# One-hot encode 'Geography'\n",
    "geo_encoded = onehot_encoder_geo.transform(sample_df[['Geography']]).toarray()\n",
    "geo_feature_names = onehot_encoder_geo.get_feature_names_out(['Geography'])\n",
    "geo_df = pd.DataFrame(geo_encoded, columns=geo_feature_names)\n",
    "\n",
    "# Drop original and add encoded geography\n",
    "sample_df = sample_df.drop('Geography', axis=1)\n",
    "sample_df = pd.concat([sample_df, geo_df], axis=1)\n",
    "\n",
    "# Scale input\n",
    "scaled_input = scaler.transform(sample_df)\n",
    "\n",
    "# Make prediction\n",
    "prediction = model.predict(scaled_input)\n",
    "prediction = prediction[0][0]\n",
    "print(\"Prediction (probability):\", prediction)\n",
    "print(\"Predicted class:\", (prediction > 0.5).astype(int))\n",
    "if prediction > 0.5:\n",
    "    print(\"Customer is likely to churn.\")\n",
    "else:\n",
    "    print(\"Customer is unlikely to churn.\")\n",
    "\n"
   ]
  },
  {
   "cell_type": "code",
   "execution_count": null,
   "id": "120e39e2",
   "metadata": {},
   "outputs": [],
   "source": []
  }
 ],
 "metadata": {
  "kernelspec": {
   "display_name": "myven",
   "language": "python",
   "name": "python3"
  },
  "language_info": {
   "codemirror_mode": {
    "name": "ipython",
    "version": 3
   },
   "file_extension": ".py",
   "mimetype": "text/x-python",
   "name": "python",
   "nbconvert_exporter": "python",
   "pygments_lexer": "ipython3",
   "version": "3.12.0"
  }
 },
 "nbformat": 4,
 "nbformat_minor": 5
}
